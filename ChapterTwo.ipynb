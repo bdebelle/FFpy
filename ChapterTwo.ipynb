{
  "nbformat": 4,
  "nbformat_minor": 0,
  "metadata": {
    "colab": {
      "name": "ChapterTwo.ipynb",
      "provenance": [],
      "authorship_tag": "ABX9TyMx2hphw1ArphCgGGuDBlVX",
      "include_colab_link": true
    },
    "kernelspec": {
      "name": "python3",
      "display_name": "Python 3"
    }
  },
  "cells": [
    {
      "cell_type": "markdown",
      "metadata": {
        "id": "view-in-github",
        "colab_type": "text"
      },
      "source": [
        "<a href=\"https://colab.research.google.com/github/bdebelle/FFpy/blob/master/ChapterTwo.ipynb\" target=\"_parent\"><img src=\"https://colab.research.google.com/assets/colab-badge.svg\" alt=\"Open In Colab\"/></a>"
      ]
    },
    {
      "cell_type": "code",
      "metadata": {
        "id": "8b3w714P9vUe",
        "colab_type": "code",
        "colab": {
          "base_uri": "https://localhost:8080/",
          "height": 85
        },
        "outputId": "385fac4a-9119-4cfd-ba05-450f19df66d3"
      },
      "source": [
        "\n",
        "#Official player stats for 2019\n",
        "\n",
        "players = [{\n",
        "   'name': 'Julio Jones',\n",
        "   'catches': 99,\n",
        "   'targets': 157\n",
        "   },\n",
        "   {\n",
        "   'name': 'Davante Adams',\n",
        "   'catches': 83,\n",
        "   'targets': 127\n",
        "   },\n",
        "   {\n",
        "   'name': 'Michael Thomas',\n",
        "   'catches': 149,\n",
        "   'targets': 185\n",
        "   },\n",
        "   {\n",
        "    'name': 'Odell Beckham Jr.', \n",
        "    'catches': 74,\n",
        "    'targets' : 133\n",
        "   },\n",
        "]\n",
        "\n",
        "\n",
        "for player in players:\n",
        "   name = player[\"name\"]\n",
        "   catches = player[\"catches\"]\n",
        "   targets = player[\"targets\"]\n",
        "   catch_rate = catches/targets\n",
        "   print(name + ' has a catch rate of ' + str(catch_rate))"
      ],
      "execution_count": 29,
      "outputs": [
        {
          "output_type": "stream",
          "text": [
            "Julio Jones has a catch rate of 0.6305732484076433\n",
            "Davante Adams has a catch rate of 0.6535433070866141\n",
            "Michael Thomas has a catch rate of 0.8054054054054054\n",
            "Odell Beckham Jr. has a catch rate of 0.556390977443609\n"
          ],
          "name": "stdout"
        }
      ]
    },
    {
      "cell_type": "code",
      "metadata": {
        "id": "nteEeehHOlgM",
        "colab_type": "code",
        "colab": {
          "base_uri": "https://localhost:8080/",
          "height": 34
        },
        "outputId": "12313d49-36c9-4918-a24d-ef29422ffa51"
      },
      "source": [
        "#Module 1 / Problem 1\n",
        "#Tyler Lockett had the following stat line for 2019.\n",
        "#69 receptions, 82 targets, 1057 receiving yards, 8 receiving touchdowns\n",
        "#Using Python, print Lockett's catch rate and fantasy points scored for 2019\n",
        "\n",
        "player_stats =[{\n",
        "    'name': 'Tyler Lockett',\n",
        "    'catches': 69, \n",
        "    'targets': 82, \n",
        "    'recieving_yards': 1057,\n",
        "    'rec_td': 8 \n",
        "}]\n",
        "\n",
        "for player in player_stats:\n",
        "  name = player[\"name\"]\n",
        "  catches = player[\"catches\"]\n",
        "  targets = player[\"targets\"]\n",
        "  catch_rate = catches/targets\n",
        "  rec_point = player[\"recieving_yards\"]*0.1\n",
        "  td_point = player[\"rec_td\"]*6\n",
        "  fantasy_points = rec_point + td_point\n",
        "  print(name + ' has a catch rate of ' + str(catch_rate) + ' and scored ' + str(fantasy_points) +' Fantasy Points')\n"
      ],
      "execution_count": 30,
      "outputs": [
        {
          "output_type": "stream",
          "text": [
            "Tyler Lockett has a catch rate of 0.8414634146341463 and scored 153.7 Fantasy Points\n"
          ],
          "name": "stdout"
        }
      ]
    },
    {
      "cell_type": "code",
      "metadata": {
        "id": "OBIQ_AUaVzgD",
        "colab_type": "code",
        "colab": {
          "base_uri": "https://localhost:8080/",
          "height": 51
        },
        "outputId": "f0595179-3c78-4ed0-f4cc-d5525cd211c9"
      },
      "source": [
        "# MOD1 / PROBLEM 2\n",
        "#Input each weeks receiving yards in to a ordered list, and find the average of the list \n",
        "#using Python's built in functions len and sum. Both of these functions can be found in the Python docs.\n",
        "#Print out MT's average receiving yards for 2019 using the print function.\n",
        "\n",
        "\n",
        "rec_yrd = [123, 89, 54, 95, 182, 89, 131, 112, 152, 114, 101, 48, 134, 128, 136, 37]\n",
        "\n",
        "print('MTs average recieving yards for 2019 was '+ str(sum(rec_yrd)/len(rec_yrd)) + ' yards per game.')\n",
        "\n",
        "#simple\n",
        "avg = sum(rec_yrd)/len(rec_yrd)\n",
        "print('MTs average recieving yards for 2019 was:', avg)\n"
      ],
      "execution_count": 31,
      "outputs": [
        {
          "output_type": "stream",
          "text": [
            "MTs average recieving yards for 2019 was 107.8125 yards per game.\n",
            "MTs average recieving yards for 2019 was: 107.8125\n"
          ],
          "name": "stdout"
        }
      ]
    },
    {
      "cell_type": "code",
      "metadata": {
        "id": "lSFyn0FvV6xN",
        "colab_type": "code",
        "colab": {
          "base_uri": "https://localhost:8080/",
          "height": 34
        },
        "outputId": "0bfb69a9-fc7e-4e39-d585-69a8041002a7"
      },
      "source": [
        "#Mod1 / p3\n",
        "#Using the list above, find the standard deviation of Michael Thomas's receiving yards. \n",
        "#This is how you calculate the standard deviation: For each element in the list, subtract away the mean of the list, \n",
        "#and square the difference for each of these intermediary calculations. \n",
        "#Set these numbers to the side. Once you are finish iterating this operation, sum up all of the results, \n",
        "#and divide by the length of the list (the number of observations)\n",
        "#Finally, take the square root of that number (that number is actually the variance). This is your standard deviation.\n",
        "\n",
        "rec_yrd = [123, 89, 54, 95, 182, 89, 131, 112, 152, 114, 101, 48, 134, 128, 136, 37]\n",
        "avg = sum(rec_yrd)/len(rec_yrd)\n",
        "\n",
        "\n",
        "variance = sum([((x - avg) ** 2) for x in rec_yrd]) / len(rec_yrd) \n",
        "result = variance ** 0.5\n",
        "\n",
        "print('standard deviation of MTs rec yard is:',  result)\n"
      ],
      "execution_count": 75,
      "outputs": [
        {
          "output_type": "stream",
          "text": [
            "standard deviation of MTs rec yard is: 37.56198002967895\n"
          ],
          "name": "stdout"
        }
      ]
    }
  ]
}