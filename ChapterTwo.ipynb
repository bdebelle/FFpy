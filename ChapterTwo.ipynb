{
  "nbformat": 4,
  "nbformat_minor": 0,
  "metadata": {
    "colab": {
      "name": "ChapterTwo.ipynb",
      "provenance": [],
      "authorship_tag": "ABX9TyMOwxXWUqMSP11FMiwvPKdS",
      "include_colab_link": true
    },
    "kernelspec": {
      "name": "python3",
      "display_name": "Python 3"
    }
  },
  "cells": [
    {
      "cell_type": "markdown",
      "metadata": {
        "id": "view-in-github",
        "colab_type": "text"
      },
      "source": [
        "<a href=\"https://colab.research.google.com/github/bdebelle/FFpy/blob/master/ChapterTwo.ipynb\" target=\"_parent\"><img src=\"https://colab.research.google.com/assets/colab-badge.svg\" alt=\"Open In Colab\"/></a>"
      ]
    },
    {
      "cell_type": "code",
      "metadata": {
        "id": "8b3w714P9vUe",
        "colab_type": "code",
        "colab": {
          "base_uri": "https://localhost:8080/",
          "height": 85
        },
        "outputId": "385fac4a-9119-4cfd-ba05-450f19df66d3"
      },
      "source": [
        "\n",
        "#Official player stats for 2019\n",
        "\n",
        "players = [{\n",
        "   'name': 'Julio Jones',\n",
        "   'catches': 99,\n",
        "   'targets': 157\n",
        "   },\n",
        "   {\n",
        "   'name': 'Davante Adams',\n",
        "   'catches': 83,\n",
        "   'targets': 127\n",
        "   },\n",
        "   {\n",
        "   'name': 'Michael Thomas',\n",
        "   'catches': 149,\n",
        "   'targets': 185\n",
        "   },\n",
        "   {\n",
        "    'name': 'Odell Beckham Jr.', \n",
        "    'catches': 74,\n",
        "    'targets' : 133\n",
        "   },\n",
        "]\n",
        "\n",
        "\n",
        "for player in players:\n",
        "   name = player[\"name\"]\n",
        "   catches = player[\"catches\"]\n",
        "   targets = player[\"targets\"]\n",
        "   catch_rate = catches/targets\n",
        "   print(name + ' has a catch rate of ' + str(catch_rate))"
      ],
      "execution_count": 29,
      "outputs": [
        {
          "output_type": "stream",
          "text": [
            "Julio Jones has a catch rate of 0.6305732484076433\n",
            "Davante Adams has a catch rate of 0.6535433070866141\n",
            "Michael Thomas has a catch rate of 0.8054054054054054\n",
            "Odell Beckham Jr. has a catch rate of 0.556390977443609\n"
          ],
          "name": "stdout"
        }
      ]
    },
    {
      "cell_type": "code",
      "metadata": {
        "id": "nteEeehHOlgM",
        "colab_type": "code",
        "colab": {
          "base_uri": "https://localhost:8080/",
          "height": 34
        },
        "outputId": "12313d49-36c9-4918-a24d-ef29422ffa51"
      },
      "source": [
        "#Module 1 / Problem 1\n",
        "#Tyler Lockett had the following stat line for 2019.\n",
        "#69 receptions, 82 targets, 1057 receiving yards, 8 receiving touchdowns\n",
        "#Using Python, print Lockett's catch rate and fantasy points scored for 2019\n",
        "\n",
        "player_stats =[{\n",
        "    'name': 'Tyler Lockett',\n",
        "    'catches': 69, \n",
        "    'targets': 82, \n",
        "    'recieving_yards': 1057,\n",
        "    'rec_td': 8 \n",
        "}]\n",
        "\n",
        "for player in player_stats:\n",
        "  name = player[\"name\"]\n",
        "  catches = player[\"catches\"]\n",
        "  targets = player[\"targets\"]\n",
        "  catch_rate = catches/targets\n",
        "  rec_point = player[\"recieving_yards\"]*0.1\n",
        "  td_point = player[\"rec_td\"]*6\n",
        "  fantasy_points = rec_point + td_point\n",
        "  print(name + ' has a catch rate of ' + str(catch_rate) + ' and scored ' + str(fantasy_points) +' Fantasy Points')\n"
      ],
      "execution_count": 30,
      "outputs": [
        {
          "output_type": "stream",
          "text": [
            "Tyler Lockett has a catch rate of 0.8414634146341463 and scored 153.7 Fantasy Points\n"
          ],
          "name": "stdout"
        }
      ]
    },
    {
      "cell_type": "code",
      "metadata": {
        "id": "OBIQ_AUaVzgD",
        "colab_type": "code",
        "colab": {
          "base_uri": "https://localhost:8080/",
          "height": 51
        },
        "outputId": "f0595179-3c78-4ed0-f4cc-d5525cd211c9"
      },
      "source": [
        "# MOD1 / PROBLEM 2\n",
        "#Input each weeks receiving yards in to a ordered list, and find the average of the list \n",
        "#using Python's built in functions len and sum. Both of these functions can be found in the Python docs.\n",
        "#Print out MT's average receiving yards for 2019 using the print function.\n",
        "\n",
        "\n",
        "rec_yrd = [123, 89, 54, 95, 182, 89, 131, 112, 152, 114, 101, 48, 134, 128, 136, 37]\n",
        "\n",
        "print('MTs average recieving yards for 2019 was '+ str(sum(rec_yrd)/len(rec_yrd)) + ' yards per game.')\n",
        "\n",
        "#simple\n",
        "avg = sum(rec_yrd)/len(rec_yrd)\n",
        "print('MTs average recieving yards for 2019 was:', avg)\n"
      ],
      "execution_count": 31,
      "outputs": [
        {
          "output_type": "stream",
          "text": [
            "MTs average recieving yards for 2019 was 107.8125 yards per game.\n",
            "MTs average recieving yards for 2019 was: 107.8125\n"
          ],
          "name": "stdout"
        }
      ]
    },
    {
      "cell_type": "code",
      "metadata": {
        "id": "lSFyn0FvV6xN",
        "colab_type": "code",
        "colab": {
          "base_uri": "https://localhost:8080/",
          "height": 34
        },
        "outputId": "7e4fa42c-1f39-4079-9a23-1f9038248814"
      },
      "source": [
        "#Mod1 / p3\n",
        "#Using the list above, find the standard deviation of Michael Thomas's receiving yards. \n",
        "#This is how you calculate the standard deviation: For each element in the list, subtract away the mean of the list, \n",
        "#and square the difference for each of these intermediary calculations. \n",
        "#Set these numbers to the side. Once you are finish iterating this operation, sum up all of the results, \n",
        "#and divide by the length of the list (the number of observations)\n",
        "#Finally, take the square root of that number (that number is actually the variance). This is your standard deviation.\n",
        "\n",
        "rec_yrd = [123, 89, 54, 95, 182, 89, 131, 112, 152, 114, 101, 48, 134, 128, 136, 37]\n",
        "avg = sum(rec_yrd)/len(rec_yrd)\n",
        "\n",
        "\n",
        "variance = sum([((x - avg) ** 2) for x in rec_yrd]) / len(rec_yrd) \n",
        "result = variance ** 0.5\n",
        "\n",
        "print('standard deviation of MTs rec yard is:',  result)\n"
      ],
      "execution_count": 78,
      "outputs": [
        {
          "output_type": "stream",
          "text": [
            "standard deviation of MTs rec yard is: 37.56198002967895\n"
          ],
          "name": "stdout"
        }
      ]
    },
    {
      "cell_type": "code",
      "metadata": {
        "id": "wsbmnQ0KoPU9",
        "colab_type": "code",
        "colab": {
          "base_uri": "https://localhost:8080/",
          "height": 34
        },
        "outputId": "35517889-9b61-4dd1-80df-d88a784780c3"
      },
      "source": [
        "# mod 1 pr 4\n",
        "# Using if statements, find whether or not Rashaad Penny is in the interquartile range for rushing yards \n",
        "# (between 25th and 75th percentile), in the bottom 25th percentile, or in the top 75th percentile.\n",
        "\n",
        "# Rashaad Penny Rushing Yards: 370 yards\n",
        "# 25th percentile (2019) for all RBs for Rushing Yards: 20 yards\n",
        "# 75th percentile (2019) for all RBs for Rushing Yards: 465 yards\n",
        "\n",
        "penny = [{\n",
        "    'name': 'Rashaad Penny',\n",
        "    'rushing': 370\n",
        "}]\n",
        "\n",
        "for player in penny:\n",
        "  name = player[\"name\"]\n",
        "  rushing = player[\"rushing\"]\n",
        "\n",
        "  if rushing <= 20:\n",
        "    print('bottom 25th')\n",
        "  elif rushing > 465:\n",
        "    print(name, \"is in the top 75th percentile\")\n",
        "  else:\n",
        "    print(name + \" is bout middle\")\n"
      ],
      "execution_count": 92,
      "outputs": [
        {
          "output_type": "stream",
          "text": [
            "Rashaad Penny is bout middle\n"
          ],
          "name": "stdout"
        }
      ]
    },
    {
      "cell_type": "code",
      "metadata": {
        "id": "K76HkWWjtUGZ",
        "colab_type": "code",
        "colab": {
          "base_uri": "https://localhost:8080/",
          "height": 68
        },
        "outputId": "0e8d6a57-19f0-4b7f-dd3c-c9559f2257a0"
      },
      "source": [
        "# mod 1 P5\n",
        "# Write a program that calculates yards per carry for 3 three top running backs. Store the player \n",
        "# data in a list of dictionaries, where each dictionary corresponds to a separate player. \n",
        "# Iterate over each dictionary using a for loop.\n",
        "\n",
        "rb_list = [{\n",
        "    'name': 'Dalvin Cook',\n",
        "    'rush_yrd': 1135,\n",
        "    'carry': 250\n",
        "},\n",
        "{\n",
        "    'name': 'Christian McCaffrey',\n",
        "    'rush_yrd': 1387 ,\n",
        "    'carry': 287\n",
        "},\n",
        "{\n",
        "    'name': 'Derrick Henry' ,\n",
        "    'rush_yrd': 1540 ,\n",
        "    'carry': 303\n",
        "}\n",
        "]\n",
        "\n",
        "\n",
        "for player in rb_list:\n",
        "  name = player['name']\n",
        "  rush_yrd = player['rush_yrd']\n",
        "  carries = player['carry']\n",
        "  yrd_carry = rush_yrd / carries\n",
        "  print(name, \"had a yards per carry in 2019 of:\", yrd_carry)\n"
      ],
      "execution_count": 95,
      "outputs": [
        {
          "output_type": "stream",
          "text": [
            "Dalvin Cook had a yards per carry in 2019 of: 4.54\n",
            "Christian McCaffrey had a yards per carry in 2019 of: 4.832752613240418\n",
            "Derrick Henry had a yards per carry in 2019 of: 5.082508250825082\n"
          ],
          "name": "stdout"
        }
      ]
    },
    {
      "cell_type": "code",
      "metadata": {
        "id": "qgwPK5bHw9oN",
        "colab_type": "code",
        "colab": {
          "base_uri": "https://localhost:8080/",
          "height": 34
        },
        "outputId": "3914be01-e4ce-4dec-9457-5a3b0f9570b3"
      },
      "source": [
        "# mod1 p6\n",
        "# For each player in the program you created above, write a program that finds the player with the max rushing yards. \n",
        "# You should still store player data in a list of dictionaries.\n",
        "\n",
        "# You should leverage for and if here. I'll offer an alternative solution in the problem_6.py file \n",
        "# as there are multiple ways to go about this problem.\n",
        "\n",
        "\n",
        "max_rushing = 0\n",
        "max_rushing_player = ''\n",
        "\n",
        "for player in rb_list:\n",
        "  if player['rush_yrd'] > max_rushing:\n",
        "    max_rushing = player['rush_yrd']\n",
        "    max_rushing_player = player['name']\n",
        "\n",
        "print(max_rushing_player, 'had the most rushing yards:', max_rushing, 'yrds')"
      ],
      "execution_count": 114,
      "outputs": [
        {
          "output_type": "stream",
          "text": [
            "Derrick Henry had the most rushing yards: 1540 yrds\n"
          ],
          "name": "stdout"
        }
      ]
    },
    {
      "cell_type": "code",
      "metadata": {
        "id": "kP-zTkHyyqt3",
        "colab_type": "code",
        "colab": {
          "base_uri": "https://localhost:8080/",
          "height": 34
        },
        "outputId": "1a8ca071-12f2-4ade-dc1c-fbe35a0bd23d"
      },
      "source": [
        "#Practice of p6\n",
        "\n",
        "max_carry = 0\n",
        "max_carry_player = ''\n",
        "\n",
        "for player in rb_list:\n",
        "  if player['carry'] > max_carry:\n",
        "    max_carry = player['carry']\n",
        "    max_carry_player = player['name']\n",
        "\n",
        "print(max_carry_player, \"has the most attempts at\", max_carry)"
      ],
      "execution_count": 117,
      "outputs": [
        {
          "output_type": "stream",
          "text": [
            "Derrick Henry has the most attempts at 303\n"
          ],
          "name": "stdout"
        }
      ]
    },
    {
      "cell_type": "code",
      "metadata": {
        "id": "dJ-ExlDw3qHc",
        "colab_type": "code",
        "colab": {
          "base_uri": "https://localhost:8080/",
          "height": 51
        },
        "outputId": "ca49329d-236a-490e-b5d5-4d465d6901da"
      },
      "source": [
        "# mod 1 P7\n",
        "# Sort this list in descending order using the sorted built-in function\n",
        "# Grab the last element of the list, and the first element of the list using list indexing\n",
        "\n",
        "rushing_tds = [10, 12, 12, 6, 7, 8, 12, 15, 17]\n",
        "\n",
        "\n",
        "rush_td_sort = sorted(rushing_tds, reverse= True)\n",
        "print('max rushing tds is', rush_td_sort[0])\n",
        "print('min rushing tds is',rush_td_sort[-1])\n"
      ],
      "execution_count": 137,
      "outputs": [
        {
          "output_type": "stream",
          "text": [
            "max rushing tds is 17\n",
            "min rushing tds is 6\n"
          ],
          "name": "stdout"
        }
      ]
    },
    {
      "cell_type": "code",
      "metadata": {
        "id": "FYpT0C-LB_1c",
        "colab_type": "code",
        "colab": {
          "base_uri": "https://localhost:8080/",
          "height": 34
        },
        "outputId": "76de8b37-4bb8-4232-e191-77e714c6eb93"
      },
      "source": [
        "# Mod1  p8\n",
        "# Calculate the passer rating for a given player using the following formula:\n",
        "#https://github.com/fantasydatapros/practice-problems\n",
        "\n",
        "\n",
        "name = 'Jimmy Garoppolo'\n",
        "comp = 329\n",
        "attempt = 476\n",
        "yards = 3978\n",
        "td = 27\n",
        "interceptions = 14\n",
        "\n",
        "passer_rating = ((\n",
        "    ((comp/attempt) -0.3) *5 + \\\n",
        "    ((yards/attempt)- 3) *0.25 + \\\n",
        "    ((td/attempt)*20) + 2.375 - \\\n",
        "    ((interceptions/attempt)*25)\n",
        "    )/6)*100\n",
        "\n",
        "print('Jimmy G had a passer rating of:', passer_rating)\n",
        "\n"
      ],
      "execution_count": 147,
      "outputs": [
        {
          "output_type": "stream",
          "text": [
            "Jimmy G had a passer rating of: 101.15546218487394\n"
          ],
          "name": "stdout"
        }
      ]
    },
    {
      "cell_type": "code",
      "metadata": {
        "id": "ZsTNlfjIFOBa",
        "colab_type": "code",
        "colab": {
          "base_uri": "https://localhost:8080/",
          "height": 68
        },
        "outputId": "5efdb24f-07ec-41c6-cd7d-56ce848eac3d"
      },
      "source": [
        "# MOD1 p9\n",
        "#Find the max and min of this list of numbers using Python's built-in functions. \n",
        "# Also find the difference between the min and max, known as the range. As an added bonus, \n",
        "# try to find the min and max without using any built-in functions.\n",
        "\n",
        "list_obj = [1, 2, 3, 56, 12, 23, 34, 12, 89, 90, 345, 67, 56, 34]\n",
        "\n",
        "print(min(list_obj),'is the minimum number')\n",
        "print(max(list_obj), 'is the max number')\n",
        "\n",
        "diff = max(list_obj) - min(list_obj)\n",
        "print('the range of the list is',diff)\n"
      ],
      "execution_count": 158,
      "outputs": [
        {
          "output_type": "stream",
          "text": [
            "1 is the minimum number\n",
            "345 is the max number\n",
            "the range of the list is 344\n"
          ],
          "name": "stdout"
        }
      ]
    },
    {
      "cell_type": "code",
      "metadata": {
        "id": "n0ohsUHhIXUb",
        "colab_type": "code",
        "colab": {
          "base_uri": "https://localhost:8080/",
          "height": 34
        },
        "outputId": "0b5a71d8-1406-487e-ed8b-3052e2ece939"
      },
      "source": [
        "# Using a dictionary of fantasy_weights, find the fantasy points scored for Lamar Jackson \n",
        "# with the following stats saved to the following dictionary:\n",
        "\n",
        "lamar_jackson_stats = {\n",
        "  'passing_yds': 3127,\n",
        "  'passing_tds': 36,\n",
        "  'passing_int': 6,\n",
        "  'rushing_yds': 1206,\n",
        "  'rushing_tds': 7,\n",
        "  'fumbles': 8,\n",
        "  'receiving_yds': 0,\n",
        "  'receptions': 0,\n",
        "  'receiving_td': 0\n",
        "}\n",
        "\n",
        "fantasy_weights = {\n",
        "'passing_yds': 0.04,\n",
        "'passing_tds': 4,\n",
        "'passing_int': -2,\n",
        "'rushing_yds': 0.10,\n",
        "'rushing_tds': 6,\n",
        "'fumbles': -2,\n",
        "'receiving_yds': 0.10,\n",
        "'receptions': 1, # adjust for half PPR and standard\n",
        "'receiving_td': 6\n",
        "}\n",
        "\n",
        "fantasy_points = (lamar_jackson_stats['passing_yds']*fantasy_weights['passing_yds'] + \\\n",
        "                  lamar_jackson_stats['passing_tds']*fantasy_weights['passing_tds'] + \\\n",
        "                  lamar_jackson_stats['passing_int']*fantasy_weights['passing_int'] + \\\n",
        "                  lamar_jackson_stats['rushing_yds']*fantasy_weights['rushing_yds'] + \\\n",
        "                  lamar_jackson_stats['rushing_tds']*fantasy_weights['rushing_tds'] + \\\n",
        "                  lamar_jackson_stats['fumbles']*fantasy_weights['fumbles'] + \\\n",
        "                  lamar_jackson_stats['receiving_yds']*fantasy_weights['receiving_yds'] + \\\n",
        "                  lamar_jackson_stats['receptions']*fantasy_weights['receptions'] + \\\n",
        "                  lamar_jackson_stats['receiving_td']*fantasy_weights['receiving_td'] \\\n",
        "                  )\n",
        "\n",
        "\n",
        "print('Lamar Jackson fantasy points scored in 2019:', fantasy_points)"
      ],
      "execution_count": 163,
      "outputs": [
        {
          "output_type": "stream",
          "text": [
            "Lamar Jackson fantasy points scored in 2019: 403.68\n"
          ],
          "name": "stdout"
        }
      ]
    }
  ]
}