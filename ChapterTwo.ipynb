{
  "nbformat": 4,
  "nbformat_minor": 0,
  "metadata": {
    "colab": {
      "name": "ChapterTwo.ipynb",
      "provenance": [],
      "authorship_tag": "ABX9TyOM2U/EuiJHCPqpnM4MyiMB",
      "include_colab_link": true
    },
    "kernelspec": {
      "name": "python3",
      "display_name": "Python 3"
    }
  },
  "cells": [
    {
      "cell_type": "markdown",
      "metadata": {
        "id": "view-in-github",
        "colab_type": "text"
      },
      "source": [
        "<a href=\"https://colab.research.google.com/github/bdebelle/FFpy/blob/master/ChapterTwo.ipynb\" target=\"_parent\"><img src=\"https://colab.research.google.com/assets/colab-badge.svg\" alt=\"Open In Colab\"/></a>"
      ]
    },
    {
      "cell_type": "code",
      "metadata": {
        "id": "8b3w714P9vUe",
        "colab_type": "code",
        "colab": {
          "base_uri": "https://localhost:8080/",
          "height": 85
        },
        "outputId": "fa97f6cb-8622-4957-aa73-e34d0601c12b"
      },
      "source": [
        "\n",
        "#Official player stats for 2019\n",
        "\n",
        "players = [{\n",
        "   'name': 'Julio Jones',\n",
        "   'catches': 99,\n",
        "   'targets': 157\n",
        "   },\n",
        "   {\n",
        "   'name': 'Davante Adams',\n",
        "   'catches': 83,\n",
        "   'targets': 127\n",
        "   },\n",
        "   {\n",
        "   'name': 'Michael Thomas',\n",
        "   'catches': 149,\n",
        "   'targets': 185\n",
        "   },\n",
        "   {\n",
        "    'name': 'Odell Beckham Jr.', \n",
        "    'catches': 74,\n",
        "    'targets' : 133\n",
        "   },\n",
        "]\n",
        "\n",
        "\n",
        "for player in players:\n",
        "   name = player[\"name\"]\n",
        "   catches = player[\"catches\"]\n",
        "   targets = player[\"targets\"]\n",
        "   catch_rate = catches/targets\n",
        "   print(name + ' has a catch rate of ' + str(catch_rate))"
      ],
      "execution_count": 7,
      "outputs": [
        {
          "output_type": "stream",
          "text": [
            "Julio Jones has a catch rate of 0.6305732484076433\n",
            "Davante Adams has a catch rate of 0.6535433070866141\n",
            "Michael Thomas has a catch rate of 0.8054054054054054\n",
            "Odell Beckham Jr. has a catch rate of 0.556390977443609\n"
          ],
          "name": "stdout"
        }
      ]
    },
    {
      "cell_type": "code",
      "metadata": {
        "id": "nteEeehHOlgM",
        "colab_type": "code",
        "colab": {
          "base_uri": "https://localhost:8080/",
          "height": 34
        },
        "outputId": "b3642bd4-5844-4e10-f3f9-d2ad619af518"
      },
      "source": [
        "#Module 1 / Problem 1\n",
        "#Tyler Lockett had the following stat line for 2019.\n",
        "#69 receptions, 82 targets, 1057 receiving yards, 8 receiving touchdowns\n",
        "#Using Python, print Lockett's catch rate and fantasy points scored for 2019\n",
        "\n",
        "player_stats =[{\n",
        "    'name': 'Tyler Lockett',\n",
        "    'catches': 69, \n",
        "    'targets': 82, \n",
        "    'recieving_yards': 1057,\n",
        "    'rec_td': 8 \n",
        "}]\n",
        "\n",
        "for player in player_stats:\n",
        "  name = player[\"name\"]\n",
        "  catches = player[\"catches\"]\n",
        "  targets = player[\"targets\"]\n",
        "  catch_rate = catches/targets\n",
        "  rec_point = player[\"recieving_yards\"]*0.1\n",
        "  td_point = player[\"rec_td\"]*6\n",
        "  fantasy_points = rec_point + td_point\n",
        "  print(name + ' has a catch rate of ' + str(catch_rate) + ' and scored ' + str(fantasy_points) +' Fantasy Points')\n"
      ],
      "execution_count": 16,
      "outputs": [
        {
          "output_type": "stream",
          "text": [
            "Tyler Lockett has a catch rate of 0.8414634146341463 and scored 153.7 Fantasy Points\n"
          ],
          "name": "stdout"
        }
      ]
    },
    {
      "cell_type": "code",
      "metadata": {
        "id": "OBIQ_AUaVzgD",
        "colab_type": "code",
        "colab": {
          "base_uri": "https://localhost:8080/",
          "height": 51
        },
        "outputId": "287e5311-ab93-47d0-ca7e-a696506c2c9e"
      },
      "source": [
        "# MOD1 / PROBLEM 2\n",
        "#Input each weeks receiving yards in to a ordered list, and find the average of the list \n",
        "#using Python's built in functions len and sum. Both of these functions can be found in the Python docs.\n",
        "#Print out MT's average receiving yards for 2019 using the print function.\n",
        "\n",
        "\n",
        "rec_yrd = [123, 89, 54, 95, 182, 89, 131, 112, 152, 114, 101, 48, 134, 128, 136, 37]\n",
        "\n",
        "print('MTs average recieving yards for 2019 was '+ str(sum(rec_yrd)/len(rec_yrd)) + ' yards per game.')\n",
        "\n",
        "#simple\n",
        "avg = sum(rec_yrd)/len(rec_yrd)\n",
        "print('MTs average recieving yards for 2019 was:', avg)\n"
      ],
      "execution_count": 26,
      "outputs": [
        {
          "output_type": "stream",
          "text": [
            "MTs average recieving yards for 2019 was 107.8125 yards per game.\n",
            "MTs average recieving yards for 2019 was: 107.8125\n"
          ],
          "name": "stdout"
        }
      ]
    },
    {
      "cell_type": "code",
      "metadata": {
        "id": "lSFyn0FvV6xN",
        "colab_type": "code",
        "colab": {}
      },
      "source": [
        ""
      ],
      "execution_count": 23,
      "outputs": []
    }
  ]
}