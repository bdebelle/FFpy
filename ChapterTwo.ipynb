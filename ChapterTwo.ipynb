{
  "nbformat": 4,
  "nbformat_minor": 0,
  "metadata": {
    "colab": {
      "name": "ChapterTwo.ipynb",
      "provenance": [],
      "authorship_tag": "ABX9TyOuCpiVN69W8xzXrmLVp9eQ",
      "include_colab_link": true
    },
    "kernelspec": {
      "name": "python3",
      "display_name": "Python 3"
    }
  },
  "cells": [
    {
      "cell_type": "markdown",
      "metadata": {
        "id": "view-in-github",
        "colab_type": "text"
      },
      "source": [
        "<a href=\"https://colab.research.google.com/github/bdebelle/FFpy/blob/master/ChapterTwo.ipynb\" target=\"_parent\"><img src=\"https://colab.research.google.com/assets/colab-badge.svg\" alt=\"Open In Colab\"/></a>"
      ]
    },
    {
      "cell_type": "code",
      "metadata": {
        "id": "8b3w714P9vUe",
        "colab_type": "code",
        "colab": {
          "base_uri": "https://localhost:8080/",
          "height": 85
        },
        "outputId": "385fac4a-9119-4cfd-ba05-450f19df66d3"
      },
      "source": [
        "\n",
        "#Official player stats for 2019\n",
        "\n",
        "players = [{\n",
        "   'name': 'Julio Jones',\n",
        "   'catches': 99,\n",
        "   'targets': 157\n",
        "   },\n",
        "   {\n",
        "   'name': 'Davante Adams',\n",
        "   'catches': 83,\n",
        "   'targets': 127\n",
        "   },\n",
        "   {\n",
        "   'name': 'Michael Thomas',\n",
        "   'catches': 149,\n",
        "   'targets': 185\n",
        "   },\n",
        "   {\n",
        "    'name': 'Odell Beckham Jr.', \n",
        "    'catches': 74,\n",
        "    'targets' : 133\n",
        "   },\n",
        "]\n",
        "\n",
        "\n",
        "for player in players:\n",
        "   name = player[\"name\"]\n",
        "   catches = player[\"catches\"]\n",
        "   targets = player[\"targets\"]\n",
        "   catch_rate = catches/targets\n",
        "   print(name + ' has a catch rate of ' + str(catch_rate))"
      ],
      "execution_count": 29,
      "outputs": [
        {
          "output_type": "stream",
          "text": [
            "Julio Jones has a catch rate of 0.6305732484076433\n",
            "Davante Adams has a catch rate of 0.6535433070866141\n",
            "Michael Thomas has a catch rate of 0.8054054054054054\n",
            "Odell Beckham Jr. has a catch rate of 0.556390977443609\n"
          ],
          "name": "stdout"
        }
      ]
    },
    {
      "cell_type": "code",
      "metadata": {
        "id": "nteEeehHOlgM",
        "colab_type": "code",
        "colab": {
          "base_uri": "https://localhost:8080/",
          "height": 34
        },
        "outputId": "12313d49-36c9-4918-a24d-ef29422ffa51"
      },
      "source": [
        "#Module 1 / Problem 1\n",
        "#Tyler Lockett had the following stat line for 2019.\n",
        "#69 receptions, 82 targets, 1057 receiving yards, 8 receiving touchdowns\n",
        "#Using Python, print Lockett's catch rate and fantasy points scored for 2019\n",
        "\n",
        "player_stats =[{\n",
        "    'name': 'Tyler Lockett',\n",
        "    'catches': 69, \n",
        "    'targets': 82, \n",
        "    'recieving_yards': 1057,\n",
        "    'rec_td': 8 \n",
        "}]\n",
        "\n",
        "for player in player_stats:\n",
        "  name = player[\"name\"]\n",
        "  catches = player[\"catches\"]\n",
        "  targets = player[\"targets\"]\n",
        "  catch_rate = catches/targets\n",
        "  rec_point = player[\"recieving_yards\"]*0.1\n",
        "  td_point = player[\"rec_td\"]*6\n",
        "  fantasy_points = rec_point + td_point\n",
        "  print(name + ' has a catch rate of ' + str(catch_rate) + ' and scored ' + str(fantasy_points) +' Fantasy Points')\n"
      ],
      "execution_count": 30,
      "outputs": [
        {
          "output_type": "stream",
          "text": [
            "Tyler Lockett has a catch rate of 0.8414634146341463 and scored 153.7 Fantasy Points\n"
          ],
          "name": "stdout"
        }
      ]
    },
    {
      "cell_type": "code",
      "metadata": {
        "id": "OBIQ_AUaVzgD",
        "colab_type": "code",
        "colab": {
          "base_uri": "https://localhost:8080/",
          "height": 51
        },
        "outputId": "f0595179-3c78-4ed0-f4cc-d5525cd211c9"
      },
      "source": [
        "# MOD1 / PROBLEM 2\n",
        "#Input each weeks receiving yards in to a ordered list, and find the average of the list \n",
        "#using Python's built in functions len and sum. Both of these functions can be found in the Python docs.\n",
        "#Print out MT's average receiving yards for 2019 using the print function.\n",
        "\n",
        "\n",
        "rec_yrd = [123, 89, 54, 95, 182, 89, 131, 112, 152, 114, 101, 48, 134, 128, 136, 37]\n",
        "\n",
        "print('MTs average recieving yards for 2019 was '+ str(sum(rec_yrd)/len(rec_yrd)) + ' yards per game.')\n",
        "\n",
        "#simple\n",
        "avg = sum(rec_yrd)/len(rec_yrd)\n",
        "print('MTs average recieving yards for 2019 was:', avg)\n"
      ],
      "execution_count": 31,
      "outputs": [
        {
          "output_type": "stream",
          "text": [
            "MTs average recieving yards for 2019 was 107.8125 yards per game.\n",
            "MTs average recieving yards for 2019 was: 107.8125\n"
          ],
          "name": "stdout"
        }
      ]
    },
    {
      "cell_type": "code",
      "metadata": {
        "id": "lSFyn0FvV6xN",
        "colab_type": "code",
        "colab": {
          "base_uri": "https://localhost:8080/",
          "height": 34
        },
        "outputId": "7e4fa42c-1f39-4079-9a23-1f9038248814"
      },
      "source": [
        "#Mod1 / p3\n",
        "#Using the list above, find the standard deviation of Michael Thomas's receiving yards. \n",
        "#This is how you calculate the standard deviation: For each element in the list, subtract away the mean of the list, \n",
        "#and square the difference for each of these intermediary calculations. \n",
        "#Set these numbers to the side. Once you are finish iterating this operation, sum up all of the results, \n",
        "#and divide by the length of the list (the number of observations)\n",
        "#Finally, take the square root of that number (that number is actually the variance). This is your standard deviation.\n",
        "\n",
        "rec_yrd = [123, 89, 54, 95, 182, 89, 131, 112, 152, 114, 101, 48, 134, 128, 136, 37]\n",
        "avg = sum(rec_yrd)/len(rec_yrd)\n",
        "\n",
        "\n",
        "variance = sum([((x - avg) ** 2) for x in rec_yrd]) / len(rec_yrd) \n",
        "result = variance ** 0.5\n",
        "\n",
        "print('standard deviation of MTs rec yard is:',  result)\n"
      ],
      "execution_count": 78,
      "outputs": [
        {
          "output_type": "stream",
          "text": [
            "standard deviation of MTs rec yard is: 37.56198002967895\n"
          ],
          "name": "stdout"
        }
      ]
    },
    {
      "cell_type": "code",
      "metadata": {
        "id": "wsbmnQ0KoPU9",
        "colab_type": "code",
        "colab": {
          "base_uri": "https://localhost:8080/",
          "height": 34
        },
        "outputId": "35517889-9b61-4dd1-80df-d88a784780c3"
      },
      "source": [
        "# mod 1 pr 4\n",
        "# Using if statements, find whether or not Rashaad Penny is in the interquartile range for rushing yards \n",
        "# (between 25th and 75th percentile), in the bottom 25th percentile, or in the top 75th percentile.\n",
        "\n",
        "# Rashaad Penny Rushing Yards: 370 yards\n",
        "# 25th percentile (2019) for all RBs for Rushing Yards: 20 yards\n",
        "# 75th percentile (2019) for all RBs for Rushing Yards: 465 yards\n",
        "\n",
        "penny = [{\n",
        "    'name': 'Rashaad Penny',\n",
        "    'rushing': 370\n",
        "}]\n",
        "\n",
        "for player in penny:\n",
        "  name = player[\"name\"]\n",
        "  rushing = player[\"rushing\"]\n",
        "\n",
        "  if rushing <= 20:\n",
        "    print('bottom 25th')\n",
        "  elif rushing > 465:\n",
        "    print(name, \"is in the top 75th percentile\")\n",
        "  else:\n",
        "    print(name + \" is bout middle\")\n"
      ],
      "execution_count": 92,
      "outputs": [
        {
          "output_type": "stream",
          "text": [
            "Rashaad Penny is bout middle\n"
          ],
          "name": "stdout"
        }
      ]
    },
    {
      "cell_type": "code",
      "metadata": {
        "id": "K76HkWWjtUGZ",
        "colab_type": "code",
        "colab": {
          "base_uri": "https://localhost:8080/",
          "height": 68
        },
        "outputId": "0e8d6a57-19f0-4b7f-dd3c-c9559f2257a0"
      },
      "source": [
        "# mod 1 P5\n",
        "# Write a program that calculates yards per carry for 3 three top running backs. Store the player \n",
        "# data in a list of dictionaries, where each dictionary corresponds to a separate player. \n",
        "# Iterate over each dictionary using a for loop.\n",
        "\n",
        "rb_list = [{\n",
        "    'name': 'Dalvin Cook',\n",
        "    'rush_yrd': 1135,\n",
        "    'carry': 250\n",
        "},\n",
        "{\n",
        "    'name': 'Christian McCaffrey',\n",
        "    'rush_yrd': 1387 ,\n",
        "    'carry': 287\n",
        "},\n",
        "{\n",
        "    'name': 'Derrick Henry' ,\n",
        "    'rush_yrd': 1540 ,\n",
        "    'carry': 303\n",
        "}\n",
        "]\n",
        "\n",
        "\n",
        "for player in rb_list:\n",
        "  name = player['name']\n",
        "  rush_yrd = player['rush_yrd']\n",
        "  carries = player['carry']\n",
        "  yrd_carry = rush_yrd / carries\n",
        "  print(name, \"had a yards per carry in 2019 of:\", yrd_carry)\n"
      ],
      "execution_count": 95,
      "outputs": [
        {
          "output_type": "stream",
          "text": [
            "Dalvin Cook had a yards per carry in 2019 of: 4.54\n",
            "Christian McCaffrey had a yards per carry in 2019 of: 4.832752613240418\n",
            "Derrick Henry had a yards per carry in 2019 of: 5.082508250825082\n"
          ],
          "name": "stdout"
        }
      ]
    },
    {
      "cell_type": "code",
      "metadata": {
        "id": "qgwPK5bHw9oN",
        "colab_type": "code",
        "colab": {
          "base_uri": "https://localhost:8080/",
          "height": 34
        },
        "outputId": "3914be01-e4ce-4dec-9457-5a3b0f9570b3"
      },
      "source": [
        "# mod1 p6\n",
        "# For each player in the program you created above, write a program that finds the player with the max rushing yards. \n",
        "# You should still store player data in a list of dictionaries.\n",
        "\n",
        "# You should leverage for and if here. I'll offer an alternative solution in the problem_6.py file \n",
        "# as there are multiple ways to go about this problem.\n",
        "\n",
        "\n",
        "max_rushing = 0\n",
        "max_rushing_player = ''\n",
        "\n",
        "for player in rb_list:\n",
        "  if player['rush_yrd'] > max_rushing:\n",
        "    max_rushing = player['rush_yrd']\n",
        "    max_rushing_player = player['name']\n",
        "\n",
        "print(max_rushing_player, 'had the most rushing yards:', max_rushing, 'yrds')"
      ],
      "execution_count": 114,
      "outputs": [
        {
          "output_type": "stream",
          "text": [
            "Derrick Henry had the most rushing yards: 1540 yrds\n"
          ],
          "name": "stdout"
        }
      ]
    },
    {
      "cell_type": "code",
      "metadata": {
        "id": "kP-zTkHyyqt3",
        "colab_type": "code",
        "colab": {
          "base_uri": "https://localhost:8080/",
          "height": 34
        },
        "outputId": "70c2a53d-d663-4351-c585-95f39e4318d1"
      },
      "source": [
        "#Practice of p6\n",
        "\n",
        "max_carry = 0\n",
        "max_carry_player = ''\n",
        "\n",
        "for player in rb_list:\n",
        "  if player['carry'] > max_carry:\n",
        "    max_carry = player['carry']\n",
        "    max_carry_player = player['name']\n",
        "\n",
        "print(max_carry_player, \"has the most attempts at\", max_carry)"
      ],
      "execution_count": 116,
      "outputs": [
        {
          "output_type": "stream",
          "text": [
            "Derrick Henry has the most attempts at 303\n"
          ],
          "name": "stdout"
        }
      ]
    }
  ]
}