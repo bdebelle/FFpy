{
  "nbformat": 4,
  "nbformat_minor": 0,
  "metadata": {
    "colab": {
      "name": "ChapterFive.ipynb",
      "provenance": [],
      "authorship_tag": "ABX9TyNsxFMkSSIl8oLWWVDhPy7j",
      "include_colab_link": true
    },
    "kernelspec": {
      "name": "python3",
      "display_name": "Python 3"
    }
  },
  "cells": [
    {
      "cell_type": "markdown",
      "metadata": {
        "id": "view-in-github",
        "colab_type": "text"
      },
      "source": [
        "<a href=\"https://colab.research.google.com/github/bdebelle/FFpy/blob/master/ChapterFive.ipynb\" target=\"_parent\"><img src=\"https://colab.research.google.com/assets/colab-badge.svg\" alt=\"Open In Colab\"/></a>"
      ]
    },
    {
      "cell_type": "code",
      "metadata": {
        "id": "BZFnRPZGqjdV",
        "colab_type": "code",
        "colab": {
          "base_uri": "https://localhost:8080/",
          "height": 34
        },
        "outputId": "86b6a3e5-144a-459c-e4f7-cfa4ff0df38f"
      },
      "source": [
        "# String Methods\n",
        "our_string = 'this is our string'\n",
        "our_string.split(' ')\n",
        "\n",
        "\n",
        "our_result = our_string.split(' ')"
      ],
      "execution_count": null,
      "outputs": [
        {
          "output_type": "execute_result",
          "data": {
            "text/plain": [
              "['this', 'is', 'our', 'string']"
            ]
          },
          "metadata": {
            "tags": []
          },
          "execution_count": 5
        }
      ]
    },
    {
      "cell_type": "code",
      "metadata": {
        "id": "ZrC5LiQvq4ZR",
        "colab_type": "code",
        "colab": {
          "base_uri": "https://localhost:8080/",
          "height": 34
        },
        "outputId": "8388399c-379a-4e44-bcbe-cc9b18a3619a"
      },
      "source": [
        "my_address ='1234 Null Rd, Sometown, California, 99999'\n",
        "print(my_address.split(','))\n",
        "\n",
        " \n"
      ],
      "execution_count": null,
      "outputs": [
        {
          "output_type": "stream",
          "text": [
            "['1234 Null Rd', ' Sometown', ' California', ' 99999']\n"
          ],
          "name": "stdout"
        }
      ]
    },
    {
      "cell_type": "code",
      "metadata": {
        "id": "6ora-SGitN20",
        "colab_type": "code",
        "colab": {
          "base_uri": "https://localhost:8080/",
          "height": 34
        },
        "outputId": "94128bb5-d0c6-4600-a966-077a34cc2a80"
      },
      "source": [
        "value_one = 'this'\n",
        "value_two = 'is'\n",
        "\n",
        "our_string = '{} is a formatted string'.format(value_one)\n",
        "our_string = '{0} {1} a formatted string'.format(value_one, value_two)\n",
        "our_string = '{one} {two} a formatted string'.format(one=value_one, two=value_two)\n",
        "\n",
        "print(our_string)"
      ],
      "execution_count": null,
      "outputs": [
        {
          "output_type": "stream",
          "text": [
            "this is a formatted string\n"
          ],
          "name": "stdout"
        }
      ]
    },
    {
      "cell_type": "code",
      "metadata": {
        "id": "gss8CzUEuMK8",
        "colab_type": "code",
        "colab": {
          "base_uri": "https://localhost:8080/",
          "height": 85
        },
        "outputId": "d1600226-7f45-4792-a644-4ffc0e4deefa"
      },
      "source": [
        "#Dictionary Methods\n",
        "player = {\n",
        " 'name': 'Michael Thomas',\n",
        " 'catches': 120\n",
        "}\n",
        "\n",
        "yds = player.get('yds', 0)\n",
        "catches = player.get('catches', 0)\n",
        "\n",
        "print(catches)\n",
        "#yds is not in player so we get default value 0 back\n",
        "print(yds)\n",
        "\n",
        "\n",
        "\n",
        "# items uses 2 placeholder values \n",
        "# Use string formating to format data\n",
        "for k, v in player.items():\n",
        "  print('{0}: {1}'.format(k, v))"
      ],
      "execution_count": null,
      "outputs": [
        {
          "output_type": "stream",
          "text": [
            "120\n",
            "0\n",
            "name: Michael Thomas\n",
            "catches: 120\n"
          ],
          "name": "stdout"
        }
      ]
    },
    {
      "cell_type": "code",
      "metadata": {
        "id": "xLC3LJ9uwYD0",
        "colab_type": "code",
        "colab": {
          "base_uri": "https://localhost:8080/",
          "height": 34
        },
        "outputId": "a2d60363-070d-45fb-9983-0c480a48b898"
      },
      "source": [
        "#List Methods\n",
        "#List Comprehension\n",
        "#Range\n",
        "\n",
        "\n",
        "our_list = [] # initiate empty list\n",
        "for i in range(0, 10): # for each thing in the range 0 to 10\n",
        "  our_list.append(i) #add the value to as an item to our list\n",
        "  \n",
        "our_list"
      ],
      "execution_count": null,
      "outputs": [
        {
          "output_type": "execute_result",
          "data": {
            "text/plain": [
              "[0, 1, 2, 3, 4, 5, 6, 7, 8, 9]"
            ]
          },
          "metadata": {
            "tags": []
          },
          "execution_count": 25
        }
      ]
    },
    {
      "cell_type": "code",
      "metadata": {
        "id": "4NALf80vwbDA",
        "colab_type": "code",
        "colab": {
          "base_uri": "https://localhost:8080/",
          "height": 34
        },
        "outputId": "f9aa1db8-fbce-499f-828b-548ed95f1280"
      },
      "source": [
        "#simplied version of above using list comprehension\n",
        "our_list = [i for i in range(0, 11)]\n",
        "our_list"
      ],
      "execution_count": null,
      "outputs": [
        {
          "output_type": "execute_result",
          "data": {
            "text/plain": [
              "[0, 1, 2, 3, 4, 5, 6, 7, 8, 9, 10]"
            ]
          },
          "metadata": {
            "tags": []
          },
          "execution_count": 80
        }
      ]
    },
    {
      "cell_type": "code",
      "metadata": {
        "id": "71RxQT0JxW56",
        "colab_type": "code",
        "colab": {
          "base_uri": "https://localhost:8080/",
          "height": 34
        },
        "outputId": "416c173c-f1ea-47ce-a127-0b78c03169e6"
      },
      "source": [
        "players = [{\n",
        "    'name': 'Julio Jones',\n",
        "    'catches': 100,\n",
        "    'yds': 1000,\n",
        "    'td': 12\n",
        "}, {\n",
        "    'name': 'Deandre Hopkins',\n",
        "    'catches': 120,\n",
        "    'yds': 1230,\n",
        "    'td': 13\n",
        "}]\n",
        "\n",
        "fantasy_points = []\n",
        "for player in players:\n",
        "  points_scored = player.get('catches', 0) + player.get('yds')*0.1 + player.get('td')*6\n",
        "  fantasy_points.append(points_scored)\n",
        "\n",
        "sum(fantasy_points)/len(fantasy_points)\n",
        "\n",
        "\n",
        "\n",
        "# SAME CODE USING LIST COMPREHENSION\n",
        "\n",
        "players = [{\n",
        "    'name': 'Julio Jones',\n",
        "    'catches': 100,\n",
        "    'yds': 1000,\n",
        "    'td': 12\n",
        "}, {\n",
        "    'name': 'Deandre Hopkins',\n",
        "    'catches': 120,\n",
        "    'yds': 1230,\n",
        "    'td': 13\n",
        "}]\n",
        "\n",
        "def calc_fantasy_points(player):\n",
        "  return player.get('catches', 0) + player.get('yds', 0)*0.1 + player.get('td', 0)*6\n",
        "\n",
        "fantasy_points = [calc_fantasy_points(player) for player in players]\n",
        "sum(fantasy_points)/len(fantasy_points)"
      ],
      "execution_count": null,
      "outputs": [
        {
          "output_type": "execute_result",
          "data": {
            "text/plain": [
              "296.5"
            ]
          },
          "metadata": {
            "tags": []
          },
          "execution_count": 30
        }
      ]
    },
    {
      "cell_type": "code",
      "metadata": {
        "id": "qhSbn_gQy8r9",
        "colab_type": "code",
        "colab": {
          "base_uri": "https://localhost:8080/",
          "height": 34
        },
        "outputId": "d9aae77d-6252-4cd2-d068-e993f6f420f0"
      },
      "source": [
        "# #Anonymous Functions, Lambda, and Map\n",
        "catches = [10, 15, 34, 23]\n",
        "\n",
        "def divide_by_two(x):\n",
        "  return x/2\n",
        "# #map is 'mapping' over a list and running a function \n",
        "# # on that list. \n",
        "half_ppr_values = map(divide_by_two, catches)\n",
        "# #We need to convert it back to a list in order to read it\n",
        "half_ppr_values = list(half_ppr_values)\n",
        "\n",
        "# half_ppr_values\n",
        "\n"
      ],
      "execution_count": null,
      "outputs": [
        {
          "output_type": "execute_result",
          "data": {
            "text/plain": [
              "[5.0, 7.5, 17.0, 11.5]"
            ]
          },
          "metadata": {
            "tags": []
          },
          "execution_count": 34
        }
      ]
    },
    {
      "cell_type": "code",
      "metadata": {
        "id": "dtmYR7sCzyjt",
        "colab_type": "code",
        "colab": {
          "base_uri": "https://localhost:8080/",
          "height": 34
        },
        "outputId": "6233ea3e-09fa-4d49-c80c-22654892da2d"
      },
      "source": [
        "#Same thing with list comprehension\n",
        "catches = [10, 15, 34, 23]\n",
        "\n",
        "def divide_by_two(x):\n",
        "  return x/2\n",
        "\n",
        "\n",
        "half_ppr_values = [divide_by_two(x) for x in catches]\n",
        "\n",
        "print(half_ppr_values)"
      ],
      "execution_count": null,
      "outputs": [
        {
          "output_type": "stream",
          "text": [
            "[5.0, 7.5, 17.0, 11.5]\n"
          ],
          "name": "stdout"
        }
      ]
    },
    {
      "cell_type": "code",
      "metadata": {
        "id": "zPLG-jMf1XlG",
        "colab_type": "code",
        "colab": {}
      },
      "source": [
        "#Lambda Function\n",
        "\n",
        "catches = [10, 15, 34, 23]\n",
        "\n",
        "#lambda argument: return_value\n",
        "half_ppr_values = map(lambda x: x/2, catches)\n",
        "half_ppr_values = list(half_ppr_values)"
      ],
      "execution_count": null,
      "outputs": []
    },
    {
      "cell_type": "code",
      "metadata": {
        "id": "2GE3pSA81znE",
        "colab_type": "code",
        "colab": {
          "base_uri": "https://localhost:8080/",
          "height": 119
        },
        "outputId": "d8b1f293-9db5-4302-aea7-bf8cf9a035df"
      },
      "source": [
        "#While Loops\n",
        "i = 0\n",
        "while i < 6:\n",
        "  print(i)\n",
        "  i = i + 1\n"
      ],
      "execution_count": null,
      "outputs": [
        {
          "output_type": "stream",
          "text": [
            "0\n",
            "1\n",
            "2\n",
            "3\n",
            "4\n",
            "5\n"
          ],
          "name": "stdout"
        }
      ]
    },
    {
      "cell_type": "code",
      "metadata": {
        "id": "fLtbNuwF2Kh-",
        "colab_type": "code",
        "colab": {
          "base_uri": "https://localhost:8080/",
          "height": 85
        },
        "outputId": "be738ee1-ac36-4320-aff5-8a917b3d071d"
      },
      "source": [
        "#Module 4: Python Crash Course Recap (Section 5 of the Course)\n",
        "stats = {\n",
        "    'Jameis Winston': {\n",
        "        'passing_yds': [194, 208, 380, 385, 204, 400, 301, 335, 358, 313, 313, 268, 456, 458, 335, 201],\n",
        "        'passing_td': [1, 1, 3, 4, 2, 1, 2, 2, 1, 2, 3, 0, 4, 4, 1, 2],\n",
        "        'passing_int': [3, 0, 1, 1, 0, 5, 2, 0, 2, 4, 2, 0, 3, 1, 4, 2]\n",
        "    },\n",
        "    'Tom Brady': {\n",
        "        'passing_yds': [341, 264, 306, 150, 348, 334, 249, 259, 285, 216, 190, 326, 169, 128, 271, 221],\n",
        "        'passing_td': [3, 2, 2, 0, 3, 0, 1, 2, 1, 0, 1, 3, 1, 2, 1, 2],\n",
        "        'passing_int': [0, 0, 0, 1, 1, 1, 1, 0, 1, 0, 0, 1, 1, 0, 0, 1]\n",
        "    }\n",
        "}\n",
        "\n",
        "\n",
        "zipped_jameis_fantasy_points = zip(\n",
        "    stats['Jameis Winston']['passing_yds'], \n",
        "    stats['Jameis Winston']['passing_td'], \n",
        "    stats['Jameis Winston']['passing_int']\n",
        ")\n",
        "\n",
        "zipped_tom_fantasy_points = zip(\n",
        "    stats['Tom Brady']['passing_yds'],\n",
        "    stats['Tom Brady']['passing_td'],\n",
        "    stats['Tom Brady']['passing_int']\n",
        ")\n",
        "\n",
        "jameis_fantasy_points = [yds/25 + td*6 - inter*-2 for yds, td , inter in\n",
        "                             zipped_jameis_fantasy_points]\n",
        "\n",
        "\n",
        "\n",
        "tom_fantasy_points = [yds/25 + td*6 - inter*-2 for yds, td , inter in\n",
        "                             zipped_tom_fantasy_points]\n",
        "\n",
        "\n",
        "def stand_dev(data_set):\n",
        "  avg = sum(data_set)/len(data_set)\n",
        "  variance = sum([((x - avg) ** 2) for x in data_set]) / len(data_set)\n",
        "  result = variance ** 0.5\n",
        "  \n",
        "  return result\n",
        "\n",
        "\n",
        "print(\n",
        "    'Jameis Winston\\'s Mean Fantasy Output:', sum(jameis_fantasy_points)/len(jameis_fantasy_points), \n",
        "    '\\nJameis Winston\\'s Standard Deviation for Fantasy Output:', stand_dev(jameis_fantasy_points)\n",
        ")\n",
        "\n",
        "\n",
        "print(\n",
        "    'Tom Brady\\'s Mean Fantasy Output:', sum(tom_fantasy_points)/len(tom_fantasy_points), \n",
        "    '\\nTom Brady\\'s Standard Deviation for Fantasy Output:', stand_dev(tom_fantasy_points)\n",
        ")"
      ],
      "execution_count": null,
      "outputs": [
        {
          "output_type": "stream",
          "text": [
            "Jameis Winston's Mean Fantasy Output: 28.8975 \n",
            "Jameis Winston's Standard Deviation for Fantasy Output: 10.07751922598017\n",
            "Tom Brady's Mean Fantasy Output: 20.1425 \n",
            "Tom Brady's Standard Deviation for Fantasy Output: 7.594971609558525\n"
          ],
          "name": "stdout"
        }
      ]
    },
    {
      "cell_type": "code",
      "metadata": {
        "id": "9-KSjC-zRlF5",
        "colab_type": "code",
        "colab": {
          "base_uri": "https://localhost:8080/",
          "height": 34
        },
        "outputId": "434d1855-0522-4ea2-841f-61e833f526d3"
      },
      "source": [
        "\n",
        "\n",
        "x = [12, 450, 45, 23, 12, 34]\n",
        "y = [12, 345, 12, 5, 6, 11]\n",
        "\n",
        "mean = lambda arg: sum(arg) / len(arg)\n",
        "\n",
        "def correlation(x,y):\n",
        "\n",
        "  x_avg, y_avg = mean(x), mean(y)\n",
        "\n",
        "  x_minus_avg = [x - x_avg for x in x]\n",
        "  y_minus_avg = [y - y_avg for y in y]\n",
        "\n",
        "  numerator = sum(\n",
        "      [x*y for x, y in zip(x_minus_avg, y_minus_avg)]\n",
        "  )\n",
        "\n",
        "  x_minus_mu_squared = [x**2 for x in x_minus_avg]\n",
        "\n",
        "  y_minus_mu_squared = [y**2 for y in y_minus_avg]\n",
        "\n",
        "  denom = (sum(x_minus_mu_squared)*sum(y_minus_mu_squared))**(0.5)\n",
        "\n",
        "  return numerator/denom\n",
        "\n",
        "print(correlation(x, y))\n",
        "\n",
        "\n",
        "\n",
        "\n"
      ],
      "execution_count": null,
      "outputs": [
        {
          "output_type": "stream",
          "text": [
            "0.9977468069833735\n"
          ],
          "name": "stdout"
        }
      ]
    },
    {
      "cell_type": "code",
      "metadata": {
        "id": "gFtRKBMXZqVd",
        "colab_type": "code",
        "colab": {
          "base_uri": "https://localhost:8080/",
          "height": 34
        },
        "outputId": "0f7dfa83-aa27-44d1-da85-f7dcc68ab339"
      },
      "source": [
        "#euclidian distance\n",
        "(1.0, 450)\n",
        "(5.0, 340)\n",
        "\n",
        "def euclidian(a,b):\n",
        "    val = sum(\n",
        "        [(ai - bi)**2 for ai, bi in zip(a, b)]\n",
        "        )**(1/2)\n",
        "\n",
        "    return val\n",
        "\n",
        "val = euclidian((1.0 ,450), (5,340))\n",
        "print(val)\n",
        "\n",
        "\n",
        "# def euclidean_dist(a, b):\n",
        "\n",
        "#     dist = sum(\n",
        "#         [(ai - bi)**2 for ai, bi in zip(a, b)]\n",
        "#         )**(1/2)\n",
        "\n",
        "#     return dist\n",
        "\n",
        "# dist = euclidean_dist((1.0, 450), (5.0, 340))\n",
        "# print(dist)"
      ],
      "execution_count": 1,
      "outputs": [
        {
          "output_type": "stream",
          "text": [
            "110.07270324653611\n"
          ],
          "name": "stdout"
        }
      ]
    },
    {
      "cell_type": "code",
      "metadata": {
        "id": "A53auUCXN_A1",
        "colab_type": "code",
        "colab": {
          "base_uri": "https://localhost:8080/",
          "height": 68
        },
        "outputId": "746d71a6-66ee-4dc1-f791-113d2c4cdbe6"
      },
      "source": [
        "#\n",
        "\n",
        "\n",
        "players =[\n",
        "          {\n",
        "        'name': 'AJ Brown',\n",
        "        'position': 'WR',\n",
        "        'projected': 200\n",
        "    },\n",
        "    {\n",
        "        'name': 'Davlin Cook',\n",
        "        'position': 'RB',\n",
        "        'projected': 220\n",
        "    },\n",
        "    {\n",
        "        'name': 'Tom Brady',\n",
        "        'position': 'QB',\n",
        "        'projected': 245\n",
        "    }\n",
        "]\n",
        "\n",
        "positional_values = {\n",
        "        'WR': 50,\n",
        "        'RB': 32,\n",
        "        'TE': 45,\n",
        "        'QB': 110\n",
        "        }\n",
        "\n",
        "\n",
        "\n",
        "for player in players:\n",
        "\n",
        "  position = player.get('position')\n",
        "  projected = player.get('projected')\n",
        "  pos_value = positional_values.get(position)\n",
        "  value_score = projected - pos_value\n",
        "\n",
        "  player['value_score'] = value_score\n",
        "\n",
        "\n",
        "\n",
        "players = sorted(players, key=lambda player: player['value_score'], reverse=False)\n",
        "\n",
        "\n",
        "for i, player in enumerate(players):\n",
        "  rank = i + 1\n",
        "  print('#{} Value Score: {} ({})'.format(rank, player.get('name'), player.get('value_score')))\n",
        "\n",
        "\n",
        "\n"
      ],
      "execution_count": 32,
      "outputs": [
        {
          "output_type": "stream",
          "text": [
            "#1 Value Score: Tom Brady (135)\n",
            "#2 Value Score: AJ Brown (150)\n",
            "#3 Value Score: Davlin Cook (188)\n"
          ],
          "name": "stdout"
        }
      ]
    },
    {
      "cell_type": "code",
      "metadata": {
        "id": "ltphaWA6XlHD",
        "colab_type": "code",
        "colab": {}
      },
      "source": [
        ""
      ],
      "execution_count": null,
      "outputs": []
    }
  ]
}