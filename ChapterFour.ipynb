{
  "nbformat": 4,
  "nbformat_minor": 0,
  "metadata": {
    "colab": {
      "name": "ChapterFour.ipynb",
      "provenance": [],
      "authorship_tag": "ABX9TyO24Y7tq1o4wK7HfHvAGiww",
      "include_colab_link": true
    },
    "kernelspec": {
      "name": "python3",
      "display_name": "Python 3"
    }
  },
  "cells": [
    {
      "cell_type": "markdown",
      "metadata": {
        "id": "view-in-github",
        "colab_type": "text"
      },
      "source": [
        "<a href=\"https://colab.research.google.com/github/bdebelle/FFpy/blob/master/ChapterFour.ipynb\" target=\"_parent\"><img src=\"https://colab.research.google.com/assets/colab-badge.svg\" alt=\"Open In Colab\"/></a>"
      ]
    },
    {
      "cell_type": "code",
      "metadata": {
        "id": "tpQjCmuXKPLg",
        "colab_type": "code",
        "colab": {
          "base_uri": "https://localhost:8080/",
          "height": 102
        },
        "outputId": "368e46a3-90e2-46eb-ed1c-d233e27521dd"
      },
      "source": [
        "# an object is a specific instance of a class\n",
        "\n",
        "player = {\n",
        "    'name':'T.Y. Hilton',\n",
        "    'pos':'WR',\n",
        "    'cathes':45,\n",
        "    'targets': 68,\n",
        "    'rec_yards': 501\n",
        "}\n",
        "\n",
        "\n",
        "class Player:\n",
        "# __init__ -- the class constructor - sole purpose to set attributes for new object\n",
        "# function inside of class = 'method'\n",
        "#self , name, catches, targets are all attributes\n",
        "  def __init__(self, name, pos, catches, targets, rushing_attempts, rushing_yards):\n",
        "    self.name = name\n",
        "    self.pos = pos\n",
        "    self.catches = catches\n",
        "    self.targets = targets\n",
        "    self.rushing_attempts = rushing_attempts\n",
        "    self.rushing_yards = rushing_yards\n",
        "\n",
        "  def catch_rate(self):\n",
        "    return self.catches/self.targets\n",
        "  \n",
        "  def yards_per_carry(self):\n",
        "    return self.rushing_yards/self.rushing_attempts\n",
        "\n",
        "  def efficiency(self):\n",
        "    return {\n",
        "        'yards_per_carry' : self.yards_per_carry(),\n",
        "        'catch_rate' : self.catch_rate()\n",
        "    }\n",
        "\n",
        "\n",
        "julio = Player('Julio Jones', 'WR', 99, 157, 2, -3 )\n",
        "\n",
        "print(julio.catches)\n",
        "print(julio.catch_rate())\n",
        "print(julio.yards_per_carry())\n",
        "print(julio.efficiency()) \n",
        "print(julio.targets)"
      ],
      "execution_count": 27,
      "outputs": [
        {
          "output_type": "stream",
          "text": [
            "99\n",
            "0.6305732484076433\n",
            "-1.5\n",
            "{'yards_per_carry': -1.5, 'catch_rate': 0.6305732484076433}\n",
            "157\n"
          ],
          "name": "stdout"
        }
      ]
    },
    {
      "cell_type": "code",
      "metadata": {
        "id": "ukfmlBAyVM_x",
        "colab_type": "code",
        "colab": {
          "base_uri": "https://localhost:8080/",
          "height": 71
        },
        "outputId": "00d0b6a1-eb1b-4bce-e00a-13904ee97571"
      },
      "source": [
        "# Problem 1 (Medium)\n",
        "# Write a class Player2019 with the following arguments to __init__:\n",
        "\n",
        "# passing_int, rushing_yds, rushing_tds, receiving_yds, receiving_td, passing_yds,\n",
        "#  passing_tds, fumbles, receptions\n",
        "# Save these arguments to a dictionary called self.fantasy_stats\n",
        "\n",
        "# And also create a method called fantasy_points that calculates Fantasy Points \n",
        "# scored based off the attributes.\n",
        "\n",
        "# As an added bonus, utilize the @property decorator for accessing fantasy_points \n",
        "# as a class attribute rather than a method call.\n",
        "\n",
        "\n",
        "class Player2019:\n",
        "  def __init__ (self, passing_int, rushing_yds, rushing_tds, receiving_yds, \n",
        "                receiving_tds, passing_yds, passing_tds, fumbles, receptions ):\n",
        "    self.passing_int = passing_int\n",
        "    self.rushing_yds = rushing_yds\n",
        "    self.rushing_tds = rushing_tds\n",
        "    self.receiving_yds = receiving_yds\n",
        "    self.receiving_tds = receiving_tds\n",
        "    self.passing_yds = passing_yds\n",
        "    self.passing_tds = passing_tds\n",
        "    self.fumbles = fumbles\n",
        "    self.receptions = receptions\n",
        "\n",
        "  def fantasy_stats(self):\n",
        "    return {\n",
        "        'passing_int' : self.passing_int,\n",
        "        'rushing_yds' : self.rushing_yds,\n",
        "        'rushing_tds' : self.rushing_tds,\n",
        "        'receiving_yds' : self.receiving_yds,\n",
        "        'receiving_tds' : self.receiving_tds,\n",
        "        'passing_yds' : self.passing_yds,\n",
        "        'rushing_tds' : self.passing_tds,\n",
        "        'fumbles' : self.fumbles,\n",
        "        'receptions' : self.receptions\n",
        "    }\n",
        "\n",
        "  def fantasy_points(self):\n",
        "    return (self.passing_yds * 0.04 + \\\n",
        "        self.passing_tds * 4 + \\\n",
        "        self.passing_int * -2 + \\\n",
        "        self.rushing_yds * 0.10 + \\\n",
        "        self.rushing_tds * 6 + \\\n",
        "        self.fumbles * -2 + \\\n",
        "        self.receiving_yds * 0.10 + \\\n",
        "        self.receptions * 1 + \\\n",
        "        self.receiving_tds * 6)\n",
        "    \n",
        "\n",
        "\n",
        "tb12 = Player2019(8, 26, 3, 0, 0, 4057, 24, 4, 0)\n",
        "\n",
        "print(tb12.fantasy_stats())\n",
        "print(tb12.fantasy_points())\n"
      ],
      "execution_count": 52,
      "outputs": [
        {
          "output_type": "stream",
          "text": [
            "{'passing_int': 8, 'rushing_yds': 26, 'rushing_tds': 24, 'receiving_yds': 0, 'receiving_tds': 0, 'passing_yds': 4057, 'fumbles': 4, 'receptions': 0}\n",
            "254.88\n"
          ],
          "name": "stdout"
        }
      ]
    },
    {
      "cell_type": "code",
      "metadata": {
        "id": "rReXwV8peXML",
        "colab_type": "code",
        "colab": {
          "base_uri": "https://localhost:8080/",
          "height": 34
        },
        "outputId": "8d93f2e9-0c8f-472c-a81f-2b5f601562cb"
      },
      "source": [
        "fantasy_weights = {\n",
        "    'passing_yds': 0.04,\n",
        "    'passing_tds': 4,\n",
        "    'passing_int': -2,\n",
        "    'rushing_yds': 0.10,\n",
        "    'rushing_tds': 6,\n",
        "    'fumbles': -2,\n",
        "    'receiving_yds': 0.10,\n",
        "    'receptions': 1, # adjust for half PPR and standard\n",
        "    'receiving_tds': 6\n",
        "}\n",
        "\n",
        "class Player2019:\n",
        "\n",
        "    def __init__(self, name, position, rushing_yds, rushing_tds, receiving_yds, \n",
        "                 receiving_tds, receptions, passing_yds, passing_tds, passing_int, \n",
        "                 interceptions, fumbles):\n",
        "\n",
        "        self.name = name\n",
        "\n",
        "        self.position = position\n",
        "\n",
        "        self.fantasy_stats = {\n",
        "            'rushing_yds': rushing_yds,\n",
        "            'rushing_tds': rushing_tds,\n",
        "            'receiving_yds': receiving_yds,\n",
        "            'receiving_tds': receiving_tds,\n",
        "            'receptions': receptions,\n",
        "            'passing_yds': passing_yds,\n",
        "            'passing_tds': passing_tds,\n",
        "            'passing_int': passing_int,\n",
        "            'interceptions': interceptions,\n",
        "            'fumbles': fumbles,\n",
        "        }\n",
        "        \n",
        "\n",
        "    @property\n",
        "    def fantasy_points(self):\n",
        "        return sum(\n",
        "            [self.fantasy_stats[stat_category]*weight for stat_category, \n",
        "             weight in fantasy_weights.items()]\n",
        "        )\n",
        "\n",
        "#these are made up player stats\n",
        "player = Player2019(\n",
        "    name='Aaron Jones',\n",
        "    position='RB',\n",
        "    rushing_yds=1000,\n",
        "    rushing_tds=6,\n",
        "    receiving_yds=450,\n",
        "    receiving_tds=6,\n",
        "    receptions=45,\n",
        "    passing_yds=0,\n",
        "    passing_tds=0,\n",
        "    passing_int=0,\n",
        "    interceptions=0,\n",
        "    fumbles=4\n",
        ")\n",
        "\n",
        "print(player.fantasy_points)"
      ],
      "execution_count": 55,
      "outputs": [
        {
          "output_type": "stream",
          "text": [
            "254.0\n"
          ],
          "name": "stdout"
        }
      ]
    }
  ]
}