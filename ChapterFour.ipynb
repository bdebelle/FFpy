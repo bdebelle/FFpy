{
  "nbformat": 4,
  "nbformat_minor": 0,
  "metadata": {
    "colab": {
      "name": "ChapterFour.ipynb",
      "provenance": [],
      "authorship_tag": "ABX9TyMU1cfw/gKjdVccfyVKl5FL",
      "include_colab_link": true
    },
    "kernelspec": {
      "name": "python3",
      "display_name": "Python 3"
    }
  },
  "cells": [
    {
      "cell_type": "markdown",
      "metadata": {
        "id": "view-in-github",
        "colab_type": "text"
      },
      "source": [
        "<a href=\"https://colab.research.google.com/github/bdebelle/FFpy/blob/master/ChapterFour.ipynb\" target=\"_parent\"><img src=\"https://colab.research.google.com/assets/colab-badge.svg\" alt=\"Open In Colab\"/></a>"
      ]
    },
    {
      "cell_type": "code",
      "metadata": {
        "id": "tpQjCmuXKPLg",
        "colab_type": "code",
        "colab": {
          "base_uri": "https://localhost:8080/",
          "height": 102
        },
        "outputId": "bc97555b-b930-4971-c1d2-df218e2fb79f"
      },
      "source": [
        "# an object is a specific instance of a class\n",
        "\n",
        "player = {\n",
        "    'name':'T.Y. Hilton',\n",
        "    'pos':'WR',\n",
        "    'cathes':45,\n",
        "    'targets': 68,\n",
        "    'rec_yards': 501\n",
        "}\n",
        "\n",
        "\n",
        "class Player:\n",
        "# __init__ -- the class constructor - sole purpose to set attributes for new object\n",
        "# function inside of class = 'method'\n",
        "#self , name, catches, targets are all attributes\n",
        "  def __init__(self, name, pos, catches, targets, rushing_attempts, rushing_yards):\n",
        "    self.name = name\n",
        "    self.pos = pos\n",
        "    self.catches = catches\n",
        "    self.targets = targets\n",
        "    self.rushing_attempts = rushing_attempts\n",
        "    self.rushing_yards = rushing_yards\n",
        "\n",
        "  def catch_rate(self):\n",
        "    return self.catches/self.targets\n",
        "  \n",
        "  def yards_per_carry(self):\n",
        "    return self.rushing_yards/self.rushing_attempts\n",
        "\n",
        "  def efficiency(self):\n",
        "    return {\n",
        "        'yards_per_carry' : self.yards_per_carry(),\n",
        "        'catch_rate' : self.catch_rate()\n",
        "    }\n",
        "\n",
        "\n",
        "julio = Player('Julio Jones', 'WR', 99, 157, 2, -3 )\n",
        "\n",
        "print(julio.catches)\n",
        "print(julio.catch_rate())\n",
        "print(julio.yards_per_carry())\n",
        "print(julio.efficiency()) \n",
        "print(julio.targets)"
      ],
      "execution_count": 26,
      "outputs": [
        {
          "output_type": "stream",
          "text": [
            "99\n",
            "0.6305732484076433\n",
            "-1.5\n",
            "{'yards_per_carry': -1.5, 'catch_rate': 0.6305732484076433}\n",
            "157\n"
          ],
          "name": "stdout"
        }
      ]
    }
  ]
}