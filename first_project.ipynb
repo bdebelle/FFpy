{
  "nbformat": 4,
  "nbformat_minor": 0,
  "metadata": {
    "colab": {
      "name": "first_project.ipynb",
      "provenance": [],
      "authorship_tag": "ABX9TyPcWubxI2JZv2o5lQ+IxND+",
      "include_colab_link": true
    },
    "kernelspec": {
      "name": "python3",
      "display_name": "Python 3"
    }
  },
  "cells": [
    {
      "cell_type": "markdown",
      "metadata": {
        "id": "view-in-github",
        "colab_type": "text"
      },
      "source": [
        "<a href=\"https://colab.research.google.com/github/bdebelle/FFpy/blob/master/first_project.ipynb\" target=\"_parent\"><img src=\"https://colab.research.google.com/assets/colab-badge.svg\" alt=\"Open In Colab\"/></a>"
      ]
    },
    {
      "cell_type": "code",
      "metadata": {
        "id": "ltgXu1DoPLaB",
        "colab_type": "code",
        "colab": {
          "base_uri": "https://localhost:8080/",
          "height": 68
        },
        "outputId": "3fbd9e1c-76d3-4c3a-fae6-24a09ecf1792"
      },
      "source": [
        "#Official player stats for 2019\n",
        "\n",
        "players = [{\n",
        "   'name': 'Julio Jones',\n",
        "   'catches': 99,\n",
        "   'targets': 157\n",
        "   },\n",
        "   {\n",
        "   'name': 'Davante Adams',\n",
        "   'catches': 83,\n",
        "   'targets': 127\n",
        "   },\n",
        "   {\n",
        "   'name': 'Michael Thomas',\n",
        "   'catches': 149,\n",
        "   'targets': 185\n",
        "   },\n",
        "]\n",
        "\n",
        "for player in players:\n",
        "   name = player[\"name\"]\n",
        "   catches = player[\"catches\"]\n",
        "   targets = player[\"targets\"]\n",
        "   catch_rate = catches/targets\n",
        "   print(name + ' has a catch rate of ' + str(catch_rate))"
      ],
      "execution_count": 14,
      "outputs": [
        {
          "output_type": "stream",
          "text": [
            "Julio Jones has a catch rate of 0.6305732484076433\n",
            "Davante Adams has a catch rate of 0.6535433070866141\n",
            "Michael Thomas has a catch rate of 0.8054054054054054\n"
          ],
          "name": "stdout"
        }
      ]
    },
    {
      "cell_type": "code",
      "metadata": {
        "id": "dDglQqkrPZkr",
        "colab_type": "code",
        "colab": {
          "base_uri": "https://localhost:8080/",
          "height": 34
        },
        "outputId": "9247dfd2-67be-402c-9070-a17fc149bd78"
      },
      "source": [
        "# Chapter 3\n",
        "\n",
        "def get_catch_rate(player):\n",
        "    if type(player) is not dict:\n",
        "       print('You need to pass in a dictionary!')\n",
        "       return\n",
        "    else:\n",
        "       pass\n",
        "\n",
        "    catches = player['catches']\n",
        "    targets = player['targets']\n",
        "\n",
        "    if catches > targets:\n",
        "       print('You can not have more catches than targets')\n",
        "       return\n",
        "    else:\n",
        "       pass\n",
        "\n",
        "    catch_rate = catches/targets\n",
        "\n",
        "    return catch_rate\n",
        "\n",
        "julio = players[0]\n",
        "julios_catch_rate = get_catch_rate(julio)\n",
        "print(julios_catch_rate)"
      ],
      "execution_count": 16,
      "outputs": [
        {
          "output_type": "stream",
          "text": [
            "0.6305732484076433\n"
          ],
          "name": "stdout"
        }
      ]
    },
    {
      "cell_type": "code",
      "metadata": {
        "id": "UFcM7YKnd1al",
        "colab_type": "code",
        "colab": {
          "base_uri": "https://localhost:8080/",
          "height": 34
        },
        "outputId": "f67176af-010a-4620-d68e-3ae8c5f70156"
      },
      "source": [
        "running_backs = [{\n",
        "    'name': 'Ezekiel Elliott',\n",
        "    'rushing_attempts': 301,\n",
        "    'rushing_yds': 1357,\n",
        "    'rushing_td': 12,\n",
        "    'receiving_yds': 420,\n",
        "    'receptions': 54,\n",
        "    'receiving_td': 2\n",
        "}, {\n",
        "    'name': 'Christian McCaffrey',\n",
        "    'rushing_attempts': 287,\n",
        "    'rushing_yds': 1387,\n",
        "    'rushing_td': 15,\n",
        "    'receiving_yds': 1005,\n",
        "    'receptions': 116,\n",
        "    'receiving_td': 4\n",
        "}, {\n",
        "    'name': 'Derrick Henry',\n",
        "    'rushing_attempts': 303,\n",
        "    'rushing_yds': 1540,\n",
        "    'rushing_td': 16,\n",
        "    'receiving_yds': 206,\n",
        "    'receptions': 18,\n",
        "    'receiving_td': 2\n",
        "}]\n",
        "\n",
        "def get_fantasy_points(rb, ppr=False):\n",
        "  only_dictionaries = True\n",
        "  if type(rb) is not dict and only_dictionaries:\n",
        "    print('Argument should be a dictionary.')\n",
        "    return\n",
        "\n",
        "  name = rb['name']\n",
        "  rushing_yds = rb['rushing_yds']\n",
        "  rushing_td = rb['rushing_td']\n",
        "  receiving_yds = rb['receiving_yds']\n",
        "  receptions = rb['receptions']\n",
        "  receiving_td = rb['receiving_td']\n",
        "\n",
        "  yds = rushing_yds + receiving_yds\n",
        "  td = receiving_td + rushing_td\n",
        "\n",
        "  if ppr:\n",
        "    fantasy_points = yds*0.1 + td*6 + receptions*1\n",
        "    return name, fantasy_points\n",
        "  else:\n",
        "    fantasy_points = yds*0.1 + td*6\n",
        "    return name, fantasy_points\n",
        "\n",
        "mcc = running_backs[1]\n",
        "name, mcc_fantasy_points = get_fantasy_points(mcc, ppr=True)\n",
        "mcc_fantasy_points\n"
      ],
      "execution_count": 17,
      "outputs": [
        {
          "output_type": "execute_result",
          "data": {
            "text/plain": [
              "469.20000000000005"
            ]
          },
          "metadata": {
            "tags": []
          },
          "execution_count": 17
        }
      ]
    }
  ]
}