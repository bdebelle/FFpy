{
  "nbformat": 4,
  "nbformat_minor": 0,
  "metadata": {
    "colab": {
      "name": "ChapterThree.ipynb",
      "provenance": [],
      "collapsed_sections": [],
      "authorship_tag": "ABX9TyOHoG+5kx/7vmdKgRzJEIMf",
      "include_colab_link": true
    },
    "kernelspec": {
      "name": "python3",
      "display_name": "Python 3"
    }
  },
  "cells": [
    {
      "cell_type": "markdown",
      "metadata": {
        "id": "view-in-github",
        "colab_type": "text"
      },
      "source": [
        "<a href=\"https://colab.research.google.com/github/bdebelle/FFpy/blob/master/ChapterThree.ipynb\" target=\"_parent\"><img src=\"https://colab.research.google.com/assets/colab-badge.svg\" alt=\"Open In Colab\"/></a>"
      ]
    },
    {
      "cell_type": "code",
      "metadata": {
        "id": "v2Tm-YbqLhhD",
        "colab_type": "code",
        "colab": {
          "base_uri": "https://localhost:8080/",
          "height": 85
        },
        "outputId": "1ac51ae1-5ab4-4239-ca98-833a8b62d83a"
      },
      "source": [
        "#Official player stats for 2019\n",
        "\n",
        "players = [{\n",
        "   'name': 'Julio Jones',\n",
        "   'catches': 99,\n",
        "   'targets': 157\n",
        "   },\n",
        "   {\n",
        "   'name': 'Davante Adams',\n",
        "   'catches': 83,\n",
        "   'targets': 127\n",
        "   },\n",
        "   {\n",
        "   'name': 'Michael Thomas',\n",
        "   'catches': 149,\n",
        "   'targets': 185\n",
        "   },\n",
        "]\n",
        "\n",
        "for player in players:\n",
        "   name = player[\"name\"]\n",
        "   catches = player[\"catches\"]\n",
        "   targets = player[\"targets\"]\n",
        "   catch_rate = catches/targets\n",
        "   print(name + ' has a catch rate of ' + str(catch_rate))\n",
        "\n",
        "\n",
        "def get_catch_rate(player):\n",
        "  if type(player) is not dict:\n",
        "    print('You need to pass in a dictionary!')\n",
        "    return\n",
        "  else:\n",
        "    pass\n",
        "\n",
        "  catches = player['catches']\n",
        "  targets =player['targets']\n",
        "\n",
        "  if catches > targets:\n",
        "    print('You can not have more catches than targets')\n",
        "    return\n",
        "  else:\n",
        "    pass\n",
        "    \n",
        "  catch_rate = catches/targets\n",
        "\n",
        "  return catch_rate\n",
        "\n",
        "julio = players[0]\n",
        "julios_catch_rate = get_catch_rate(julio)\n",
        "print(julios_catch_rate)\n",
        "\n",
        "\n"
      ],
      "execution_count": null,
      "outputs": [
        {
          "output_type": "stream",
          "text": [
            "Julio Jones has a catch rate of 0.6305732484076433\n",
            "Davante Adams has a catch rate of 0.6535433070866141\n",
            "Michael Thomas has a catch rate of 0.8054054054054054\n",
            "0.6305732484076433\n"
          ],
          "name": "stdout"
        }
      ]
    },
    {
      "cell_type": "code",
      "metadata": {
        "id": "AkK-SJNZ-nKw",
        "colab_type": "code",
        "colab": {
          "base_uri": "https://localhost:8080/",
          "height": 34
        },
        "outputId": "586bfbc9-c613-4f16-f6cd-bb98ffd424ef"
      },
      "source": [
        "# Mod 2 P1\n",
        "# Problem 1 (Hard)\n",
        "# Write a function that calculates standard deviation for any list of numbers.\n",
        "\n",
        "# Test it using any player's rushing yards for the 2019 season.\n",
        "\n",
        "# In the solution, I provide a way you can check your answer to make sure it is \n",
        "# correct using one of Python's data science libraries - numpy\n",
        "\n",
        "dalvin_rush_yrd = [111, 154, 110, 35, 132, 41, 142, 98, 71, 97, 26, 29, 62, 27]\n",
        "\n",
        "\n",
        "\n",
        "def stand_dev(rush):\n",
        "  avg = sum(rush_yrd)/len(rush_yrd)\n",
        "  variance = sum([((x - avg) ** 2) for x in rush_yrd]) / len(rush_yrd) \n",
        "  result = variance ** 0.5\n",
        "  print(result)\n",
        "\n",
        "stand_dev(dalvin_rush_yrd)\n"
      ],
      "execution_count": null,
      "outputs": [
        {
          "output_type": "stream",
          "text": [
            "43.719012349506784\n"
          ],
          "name": "stdout"
        }
      ]
    },
    {
      "cell_type": "code",
      "metadata": {
        "id": "gL7hq0djhowd",
        "colab_type": "code",
        "colab": {
          "base_uri": "https://localhost:8080/",
          "height": 51
        },
        "outputId": "afa3c068-2110-433d-e662-7af55e076561"
      },
      "source": [
        "# MOD2 p2\n",
        "# Write a function that calculates fantasy points given a dictionary \n",
        "# as an argument with the following format:\n",
        "\n",
        "fantasy_stats = {\n",
        "  'passing_yds': 3400,\n",
        "  'passing_tds': 24,\n",
        "  'passing_int': 6,\n",
        "  'rushing_yds': 324,\n",
        "  'rushing_tds': 3,\n",
        "  'fumbles': 2,\n",
        "  'receiving_yds': 12,\n",
        "  'receptions': 1,\n",
        "  'receiving_td': 0\n",
        "}\n",
        "\n",
        "fantasy_weights = {\n",
        "'passing_yds': 0.04,\n",
        "'passing_tds': 4,\n",
        "'passing_int': -2,\n",
        "'rushing_yds': 0.10,\n",
        "'rushing_tds': 6,\n",
        "'fumbles': -2,\n",
        "'receiving_yds': 0.10,\n",
        "'receptions': 1, \n",
        "'receiving_td': 6\n",
        "}\n",
        "\n",
        "\n",
        "def calc_fantasy_points(stats):\n",
        "  if type(stats) is not dict:\n",
        "    print('You need to pass in a dictionary!')\n",
        "    return\n",
        "  else:\n",
        "    pass\n",
        "\n",
        "  fantasy_points= (stats['passing_yds']*fantasy_weights['passing_yds']+ \\\n",
        "                   stats['passing_tds']*fantasy_weights['passing_tds']+ \\\n",
        "                   stats['passing_int']*fantasy_weights['passing_int']+ \\\n",
        "                   stats['rushing_yds']*fantasy_weights['rushing_yds']+ \\\n",
        "                   stats['rushing_tds']*fantasy_weights['rushing_tds']+ \\\n",
        "                   stats['fumbles']*fantasy_weights['fumbles']+ \\\n",
        "                   stats['receiving_yds']*fantasy_weights['receiving_yds']+ \\\n",
        "                   stats['receptions']*fantasy_weights['receptions']+ \\\n",
        "                   stats['receiving_td']*fantasy_weights['receiving_td'])\n",
        "  \n",
        "  print('Player A fantasy points in 2019:', fantasy_points)\n",
        "\n",
        "\n",
        "calc_fantasy_points(fantasy_stats)\n",
        "\n",
        "running_backs = [{\n",
        "    'name': 'Ezekiel Elliott',\n",
        "    'rushing_attempts': 301,\n",
        "    'rushing_yds': 1357,\n",
        "    'rushing_td': 12,\n",
        "    'receiving_yds': 420,\n",
        "    'receptions': 54,\n",
        "    'receiving_td': 2\n",
        "}, {\n",
        "    'name': 'Christian McCaffrey',\n",
        "    'rushing_attempts': 287,\n",
        "    'rushing_yds': 1387,\n",
        "    'rushing_td': 15,\n",
        "    'receiving_yds': 1005,\n",
        "    'receptions': 116,\n",
        "    'receiving_td': 4\n",
        "}, {\n",
        "    'name': 'Derrick Henry',\n",
        "    'rushing_attempts': 303,\n",
        "    'rushing_yds': 1540,\n",
        "    'rushing_td': 16,\n",
        "    'receiving_yds': 206,\n",
        "    'receptions': 18,\n",
        "    'receiving_td': 2\n",
        "}]\n",
        "\n",
        "def get_fantasy_points(rb, ppr=False):\n",
        "  only_dictionaries = True\n",
        "  if type(rb) is not dict and only_dictionaries:\n",
        "    print('Argument should be a dictionary.')\n",
        "    return\n",
        "\n",
        "  name = rb['name']\n",
        "  rushing_yds = rb['rushing_yds']\n",
        "  rushing_td = rb['rushing_td']\n",
        "  receiving_yds = rb['receiving_yds']\n",
        "  receptions = rb['receptions']\n",
        "  receiving_td = rb['receiving_td']\n",
        "\n",
        "  yds = rushing_yds + receiving_yds\n",
        "  td = receiving_td + rushing_td\n",
        "\n",
        "  if ppr:\n",
        "    fantasy_points = yds*0.1 + td*6 + receptions*1\n",
        "    return name, fantasy_points\n",
        "  else:\n",
        "    fantasy_points = yds*0.1 + td*6\n",
        "    return name, fantasy_points\n",
        "\n",
        "mcc = running_backs[1]\n",
        "name, mcc_fantasy_points = get_fantasy_points(mcc, ppr=True)\n",
        "print('CMC fantasy points for 2019:', mcc_fantasy_points)\n"
      ],
      "execution_count": 23,
      "outputs": [
        {
          "output_type": "stream",
          "text": [
            "Player A fantasy points in 2019: 268.59999999999997\n",
            "CMC fantasy points for 2019: 469.20000000000005\n"
          ],
          "name": "stdout"
        }
      ]
    },
    {
      "cell_type": "code",
      "metadata": {
        "id": "yA5jlROdOrEW",
        "colab_type": "code",
        "colab": {
          "base_uri": "https://localhost:8080/",
          "height": 34
        },
        "outputId": "6d5368e0-a969-4dae-827b-0580e9cbde24"
      },
      "source": [
        "# MOD2 P3\n",
        "# Write a function that calculates a player's passer rating based off their \n",
        "# completions, attempts, yards, interceptions, and touchdowns. These should all be \n",
        "# arguments to your function. The formula for \n",
        "# passer rating is above in module 1, problem 8 problem description.\n",
        "\n",
        "name = 'Jimmy Garoppolo'\n",
        "comp = 329\n",
        "attempt = 476\n",
        "yards = 3978\n",
        "td = 27\n",
        "interceptions = 14\n",
        "\n",
        "# passer_rating = ((\n",
        "#     ((comp/attempt) -0.3) *5 + \\\n",
        "#     ((yards/attempt)- 3) *0.25 + \\\n",
        "#     ((td/attempt)*20) + 2.375 - \\\n",
        "#     ((interceptions/attempt)*25)\n",
        "#     )/6)*100\n",
        "\n",
        "# print(name, 'had a passer rating of:', passer_rating)\n",
        "\n",
        "def passer_rating(comp, attempt, yards, td, interceptions):\n",
        "  \n",
        "  passer_rating = ((\n",
        "    ((comp/attempt) -0.3) *5 + \\\n",
        "    ((yards/attempt)- 3) *0.25 + \\\n",
        "    ((td/attempt)*20) + 2.375 - \\\n",
        "    ((interceptions/attempt)*25)\n",
        "    )/6)*100\n",
        "\n",
        "  return passer_rating\n",
        "  \n",
        "print(passer_rating(comp, attempt, yards, td, interceptions))"
      ],
      "execution_count": 15,
      "outputs": [
        {
          "output_type": "stream",
          "text": [
            "101.15546218487394\n"
          ],
          "name": "stdout"
        }
      ]
    },
    {
      "cell_type": "code",
      "metadata": {
        "id": "YL4J_ub7Xpk3",
        "colab_type": "code",
        "colab": {
          "base_uri": "https://localhost:8080/",
          "height": 34
        },
        "outputId": "87380d59-bf14-4592-f50c-528624de79b4"
      },
      "source": [
        "# Write a function that takes in a player's rushing stats on the season and returns a \n",
        "# formatted dictionary with yards_per_carry and touchdowns_per_carry\n",
        "\n",
        "# The input argument should be formatted like this:\n",
        "\n",
        "rb_stats ={\n",
        "    'rushing_yards': 1000,\n",
        "    'rushing_touchdowns': 12,\n",
        "    'rushing_attempts': 240\n",
        "    }\n",
        "# And the return value of the function should look like this:\n",
        "\n",
        "    # {\n",
        "    #     'yards_per_carry': 5.0, # made up number for example purposes\n",
        "    #     'touchdowns_per_carry': 0.25\n",
        "    # }\n",
        "\n",
        "\n",
        "def rush_stats(rb):\n",
        "\n",
        "  yards_per_carry = rb['rushing_yards']/rb['rushing_touchdowns']\n",
        "  touchdowns_per_carry = rb['rushing_touchdowns']/rb['rushing_attempts']\n",
        "\n",
        "  return {'yards_per_carry': yards_per_carry,\n",
        "          'touchdowns_per_carry': touchdowns_per_carry\n",
        "          }\n",
        "\n",
        "\n",
        "\n",
        "\n",
        "print(rush_stats(rb_stats))\n",
        "\n",
        "\n",
        "\n"
      ],
      "execution_count": 39,
      "outputs": [
        {
          "output_type": "stream",
          "text": [
            "{'yards_per_carry': 83.33333333333333, 'touchdowns_per_carry': 0.05}\n"
          ],
          "name": "stdout"
        }
      ]
    },
    {
      "cell_type": "code",
      "metadata": {
        "id": "YCMZQPy1eIaL",
        "colab_type": "code",
        "colab": {
          "base_uri": "https://localhost:8080/",
          "height": 34
        },
        "outputId": "783569ea-1376-4937-9fba-a8c0400c24b5"
      },
      "source": [
        "# Using this list of dictionaries with information about the last 10 picks in a \n",
        "# draft, find the last QB, RB, WR, TE chosen in the draft. Store the information \n",
        "# about the last picked players in the draft in a dictionary with key:value pairs \n",
        "# of position:pick\n",
        "\n",
        "players = [\n",
        "           {\n",
        "            'pos': 'RB',\n",
        "            'pick': 90\n",
        "        },\n",
        "        {\n",
        "            'pos': 'RB',\n",
        "            'pick': 91\n",
        "        },\n",
        "        {\n",
        "            'pos': 'WR',\n",
        "            'pick': 92\n",
        "        },\n",
        "        {\n",
        "            'pos': 'TE',\n",
        "            'pick': 93\n",
        "        },\n",
        "        {\n",
        "            'pos': 'RB',\n",
        "            'pick': 94\n",
        "        },\n",
        "        {\n",
        "            'pos': 'RB',\n",
        "            'pick': 95\n",
        "        },\n",
        "        {\n",
        "            'pos': 'WR',\n",
        "            'pick': 96\n",
        "        },\n",
        "        {\n",
        "            'pos': 'RB',\n",
        "            'pick': 97\n",
        "        },\n",
        "        {\n",
        "            'pos': 'TE',\n",
        "            'pick': 98\n",
        "        },\n",
        "        {\n",
        "            'pos': 'RB',\n",
        "            'pick': 99\n",
        "        },\n",
        "        {\n",
        "            'pos': 'QB',\n",
        "            'pick': 100\n",
        "        },\n",
        "]\n",
        "\n",
        "#create empty dict\n",
        "last_player = {}\n",
        "\n",
        "# for each Key Value pair in dict players\n",
        "for player in players:\n",
        "  #key Variable position is equal to the key 'pos'\n",
        "  position = player['pos']\n",
        "  #in dict last_player, key position is set to value 'pick'\n",
        "  last_player[position] = player['pick']\n",
        "\n",
        "#print dict last_player\n",
        "print(last_player)\n",
        "\n"
      ],
      "execution_count": 59,
      "outputs": [
        {
          "output_type": "stream",
          "text": [
            "{'RB': 99, 'WR': 96, 'TE': 98, 'QB': 100}\n"
          ],
          "name": "stdout"
        }
      ]
    }
  ]
}